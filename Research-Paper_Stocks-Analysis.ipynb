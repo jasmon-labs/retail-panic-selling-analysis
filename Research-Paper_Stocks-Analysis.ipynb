{
 "cells": [
  {
   "cell_type": "code",
   "execution_count": 23,
   "id": "4eda05a3-1748-4174-8d92-888ba2f8299e",
   "metadata": {},
   "outputs": [],
   "source": [
    "import yfinance as yf\n",
    "ts = '^NSEI'\n",
    "ts2 = 'BHEL.NS BEL.NS'"
   ]
  },
  {
   "cell_type": "code",
   "execution_count": 24,
   "id": "e8824d1e-144a-4f52-aa10-c75b1456c256",
   "metadata": {},
   "outputs": [
    {
     "name": "stderr",
     "output_type": "stream",
     "text": [
      "/var/folders/26/fp51yn8x1931k3nqw5sz13lh0000gn/T/ipykernel_29099/1657760504.py:2: FutureWarning: YF.download() has changed argument auto_adjust default to True\n",
      "  data = yf.download(ts, start='2022-02-13', end='2022-03-07')\n",
      "[*********************100%***********************]  1 of 1 completed"
     ]
    },
    {
     "name": "stdout",
     "output_type": "stream",
     "text": [
      "Price               Open         Close  Volume\n",
      "Ticker             ^NSEI         ^NSEI   ^NSEI\n",
      "Date                                          \n",
      "2022-02-14  17076.150391  16842.800781  305500\n",
      "2022-02-15  16933.250000  17352.449219  298700\n",
      "2022-02-16  17408.449219  17322.199219  244500\n",
      "2022-02-17  17396.550781  17304.599609  232100\n",
      "2022-02-18  17236.050781  17276.300781  189600\n",
      "2022-02-21  17192.250000  17206.650391  215200\n",
      "2022-02-22  16847.949219  17092.199219  300100\n",
      "2022-02-23  17194.500000  17063.250000  200200\n",
      "2022-02-24  16548.900391  16247.950195  458000\n",
      "2022-02-25  16515.650391  16658.400391  329800\n",
      "2022-02-28  16481.599609  16793.900391  404200\n",
      "2022-03-02  16593.099609  16605.949219  517700\n",
      "2022-03-03  16723.199219  16498.050781  442100\n",
      "2022-03-04  16339.450195  16245.349609  456100\n"
     ]
    },
    {
     "name": "stderr",
     "output_type": "stream",
     "text": [
      "\n"
     ]
    }
   ],
   "source": [
    "#FOR NIFTY50\n",
    "data = yf.download(ts, start='2022-02-13', end='2022-03-07')\n",
    "selected_data = data[['Open', 'Close', 'Volume']]\n",
    "print(selected_data)"
   ]
  },
  {
   "cell_type": "code",
   "execution_count": 25,
   "id": "765d6f5c-6c7b-4786-b4dd-256b3a28ee88",
   "metadata": {},
   "outputs": [],
   "source": [
    "selected_data.to_csv('nifty50_open_close_volume_feb13_mar6_2022.csv')"
   ]
  },
  {
   "cell_type": "code",
   "execution_count": 26,
   "id": "83885a95-ece5-4455-a234-e84aa7c00700",
   "metadata": {},
   "outputs": [
    {
     "name": "stderr",
     "output_type": "stream",
     "text": [
      "/var/folders/26/fp51yn8x1931k3nqw5sz13lh0000gn/T/ipykernel_29099/2098213691.py:2: FutureWarning: YF.download() has changed argument auto_adjust default to True\n",
      "  data2 = yf.download(ts2, start='2022-02-13', end='2022-03-07')\n",
      "[*********************100%***********************]  2 of 2 completed"
     ]
    },
    {
     "name": "stdout",
     "output_type": "stream",
     "text": [
      "Price            Open                 Close               Volume          \n",
      "Ticker         BEL.NS    BHEL.NS     BEL.NS    BHEL.NS    BEL.NS   BHEL.NS\n",
      "Date                                                                      \n",
      "2022-02-14  62.733868  54.633936  62.383583  52.557354  31961610  26510266\n",
      "2022-02-15  62.479119  53.397875  63.354843  54.188953  10746255  20300727\n",
      "2022-02-16  63.609600  54.683378  63.370766  54.485607  13420629  17655412\n",
      "2022-02-17  63.450369  54.683379  64.007652  53.645088  19166469  45900731\n",
      "2022-02-18  63.689209  53.645086  63.689209  52.804565  10616886  17873081\n",
      "2022-02-21  63.052316  52.409025  63.100086  49.936901  10470885  44296864\n",
      "2022-02-22  62.096982  49.145822  62.845329  48.898609  20409699  51316741\n",
      "2022-02-23  62.861252  49.195266  63.370766  49.096382  10145349  31779044\n",
      "2022-02-24  62.319883  47.415341  59.820084  43.855480  24915339  48563259\n",
      "2022-02-25  61.412316  47.069236  63.736973  47.613106  22461840  61882199\n",
      "2022-02-28  62.749791  47.464777  67.016968  49.294147  35587689  41519924\n",
      "2022-03-02  66.093479  49.145821  68.784348  49.838017  51608091  33734292\n",
      "2022-03-03  69.421239  50.530209  68.481827  49.887459  28625697  25803995\n",
      "2022-03-04  68.147454  49.393035  68.434052  48.651398  46128378  25945200\n"
     ]
    },
    {
     "name": "stderr",
     "output_type": "stream",
     "text": [
      "\n"
     ]
    }
   ],
   "source": [
    "#FOR MID-CAP STOCKS\n",
    "data2 = yf.download(ts2, start='2022-02-13', end='2022-03-07')\n",
    "selected_data2 = data2[['Open', 'Close', 'Volume']]\n",
    "print(selected_data2)"
   ]
  },
  {
   "cell_type": "code",
   "execution_count": 27,
   "id": "8f9a53b8-8c48-44a2-9eae-f028d781fe6a",
   "metadata": {},
   "outputs": [],
   "source": [
    "selected_data2.to_csv('midcapstocks_open_close_volume_feb13_mar6_2022.csv')"
   ]
  },
  {
   "cell_type": "code",
   "execution_count": null,
   "id": "2bccf9e8-d141-47f8-a328-f10b66a3de54",
   "metadata": {},
   "outputs": [],
   "source": []
  }
 ],
 "metadata": {
  "kernelspec": {
   "display_name": "Python 3 (ipykernel)",
   "language": "python",
   "name": "python3"
  },
  "language_info": {
   "codemirror_mode": {
    "name": "ipython",
    "version": 3
   },
   "file_extension": ".py",
   "mimetype": "text/x-python",
   "name": "python",
   "nbconvert_exporter": "python",
   "pygments_lexer": "ipython3",
   "version": "3.13.4"
  }
 },
 "nbformat": 4,
 "nbformat_minor": 5
}
